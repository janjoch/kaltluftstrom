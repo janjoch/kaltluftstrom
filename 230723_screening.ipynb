{
 "cells": [
  {
   "cell_type": "markdown",
   "id": "905db71e",
   "metadata": {},
   "source": [
    "# Kaltluftoptimierte Waldrandpflege Kehl"
   ]
  },
  {
   "cell_type": "markdown",
   "id": "445af6f5",
   "metadata": {},
   "source": [
    "---"
   ]
  },
  {
   "cell_type": "markdown",
   "id": "7369f3e4",
   "metadata": {},
   "source": [
    "### Pilotversuch 2022-2023\n",
    "\n",
    "**Auftraggeber:** Stadtforstamt Baden, Georg von Graefe, [georg.vongraefe@baden.ch](mailto:georg.vongraefe@baden.ch)\n",
    "\n",
    "**Messungen, Auswertung und Code:** Janosch Jörg, [mail@janjo.ch](mailto:mail@janjo.ch)\n",
    "\n",
    "*Stand 07.01.2023*"
   ]
  },
  {
   "cell_type": "markdown",
   "id": "0fc99ab8",
   "metadata": {},
   "source": [
    "---"
   ]
  },
  {
   "cell_type": "markdown",
   "id": "0d266fa8",
   "metadata": {},
   "source": [
    "---"
   ]
  },
  {
   "cell_type": "markdown",
   "id": "ed2c080f",
   "metadata": {},
   "source": [
    "<a id='interaktiv'></a>\n",
    "## Interaktiver Online-Viewer Rohdaten"
   ]
  },
  {
   "cell_type": "code",
   "execution_count": null,
   "id": "fe7d305c",
   "metadata": {},
   "outputs": [],
   "source": [
    "import waldluft as wl"
   ]
  },
  {
   "cell_type": "code",
   "execution_count": null,
   "id": "9dfea413",
   "metadata": {},
   "outputs": [],
   "source": [
    "import datetime as dt"
   ]
  },
  {
   "cell_type": "code",
   "execution_count": null,
   "id": "e5040db4",
   "metadata": {},
   "outputs": [],
   "source": [
    "SENSOR_LABELS = {\n",
    "    \"W1\": \"W1: Schneise 1, WTDL1\",\n",
    "    \"W2\": \"W2: Schneise 2, WTDL1\",\n",
    "    \"W3\": \"W3: Schneise 3, WTDL1\",\n",
    "    \"W4\": \"W4: Schneise 4, WTDL1\",\n",
    "    \"W5\": \"W5: Schneise 5, WTDL1\",\n",
    "\n",
    "    \"S1\": \"S1: Schneise 1, SHT31\",\n",
    "    \"S2\": \"S2: Schneise 2, SHT31\",\n",
    "    \"S3\": \"S3: Schneise 3, SHT31\",\n",
    "    \"S4\": \"S4: Schneise 4, SHT31\",\n",
    "    \"S5\": \"S5: Schneise 5, SHT31\",\n",
    "\n",
    "    \"W6\": \"W6: Ref. Waldrand 1, WTDL1\",\n",
    "    \"W7\": \"W7: Ref. Waldrand 2, WTDL1\",\n",
    "    \"W8\": \"W8: Ref. Quartier, WTDL1\",\n",
    "    \"W9\": \"W9: Ref. Wald, WTDL1\",\n",
    "\n",
    "    \"S6\": \"S6: Ref. Waldrand 1, SHT31\",\n",
    "    \"S7\": \"S7: Ref. Waldrand 2, SHT31\",\n",
    "    \"S8\": \"S8: Ref. Quartier, SHT31\",\n",
    "    \"S9\": \"S9: Ref. Wald, SHT31\",\n",
    "    \n",
    "    \"W11\": \"W11: Quartier Teer\",\n",
    "    \"W12\": \"W12: Quartier Rasen\",\n",
    "    \n",
    "    \"W31\": \"W31: Wald 1\",\n",
    "    \"W32\": \"W32: Wald 2\",\n",
    "    \"W35\": \"W35: Wald Baumkrone\",\n",
    "    \n",
    "    \"W41\": \"W41: Holzschlag vor Schneise 1\",\n",
    "    \"W42\": \"W42: Holzschlag in Schneise 2\",\n",
    "    \"W43\": \"W43: Holzschlag zwischen Schneise 2 und 3\",\n",
    "    \"W44\": \"W44: Holzschlag in Schneise 3\",\n",
    "    \"W45\": \"W45: Holzschlag nach Schneise 3\",\n",
    "    \n",
    "    \"W61\": \"W61: Bach in Wald\",\n",
    "    \"W62\": \"W62: Bach am Waldrand\",\n",
    "}\n",
    "SENSORS = (\"W1\", \"W2\", \"W3\", \"W4\", \"W5\")\n",
    "REF_SENSORS = (\"W7\", \"W8\", \"W9\")\n",
    "\n",
    "height=800"
   ]
  },
  {
   "cell_type": "code",
   "execution_count": null,
   "id": "0064a08a",
   "metadata": {
    "scrolled": true
   },
   "outputs": [],
   "source": [
    "view = wl.Timed(\n",
    "    \"raw_data/230723\",\n",
    "    encoding=\"iso8859-1\",\n",
    "    sensor_labels=SENSOR_LABELS,\n",
    ")"
   ]
  },
  {
   "cell_type": "code",
   "execution_count": null,
   "id": "0af80648",
   "metadata": {},
   "outputs": [],
   "source": [
    "lims = dict(\n",
    "    xlim=(dt.datetime(2023,6,5).timestamp()*1000,dt.datetime(2023,7,24).timestamp()*1000),\n",
    "    ylim=(8,45),\n",
    ")"
   ]
  },
  {
   "cell_type": "code",
   "execution_count": null,
   "id": "7cec3fc7",
   "metadata": {
    "scrolled": false
   },
   "outputs": [],
   "source": [
    "overview = view.plot_temp_time(\n",
    "    sensors=dict(),\n",
    "    plot_all=True,\n",
    "    title=\"WTDL-Temperaturdaten 05.06.2023 - 23.07.2023\",\n",
    "    **lims,\n",
    ")\n",
    "overview.show()"
   ]
  },
  {
   "cell_type": "code",
   "execution_count": null,
   "id": "ff81d259",
   "metadata": {},
   "outputs": [],
   "source": [
    "overview.save(\"html_graphics/230723/overview.html\")"
   ]
  },
  {
   "cell_type": "code",
   "execution_count": null,
   "id": "53683b79",
   "metadata": {
    "scrolled": false
   },
   "outputs": [],
   "source": [
    "loss = view.plot_temp_time(\n",
    "    (\"W11\", \"W12\"),\n",
    "    title=\"Datenverlust W11, Sensor Quartier Rasen\",\n",
    "    **lims,\n",
    ")\n",
    "loss.show()"
   ]
  },
  {
   "cell_type": "code",
   "execution_count": null,
   "id": "9f97eaa1",
   "metadata": {},
   "outputs": [],
   "source": [
    "loss.save(\"html_graphics/230723/dataloss_W11.html\")"
   ]
  },
  {
   "cell_type": "code",
   "execution_count": null,
   "id": "6edd39df",
   "metadata": {
    "scrolled": false
   },
   "outputs": [],
   "source": [
    "noloss = view.plot_temp_time(\n",
    "    (\"W41\", \"W42\", \"W61\", \"W62\"),\n",
    "    title=\"Kein Datenverlust bei W42 und W62 (Schneise 2 und Bach Waldrand)\",\n",
    "    **lims,\n",
    ")\n",
    "noloss.show()"
   ]
  },
  {
   "cell_type": "code",
   "execution_count": null,
   "id": "d8dfaefd",
   "metadata": {},
   "outputs": [],
   "source": [
    "noloss.save(\"html_graphics/230723/nodataloss_W42_W62.html\")"
   ]
  },
  {
   "cell_type": "code",
   "execution_count": null,
   "id": "edbd0d13",
   "metadata": {},
   "outputs": [],
   "source": []
  }
 ],
 "metadata": {
  "kernelspec": {
   "display_name": "Python 3 (ipykernel)",
   "language": "python",
   "name": "python3"
  },
  "language_info": {
   "codemirror_mode": {
    "name": "ipython",
    "version": 3
   },
   "file_extension": ".py",
   "mimetype": "text/x-python",
   "name": "python",
   "nbconvert_exporter": "python",
   "pygments_lexer": "ipython3",
   "version": "3.8.15"
  }
 },
 "nbformat": 4,
 "nbformat_minor": 5
}
