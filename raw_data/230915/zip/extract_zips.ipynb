{
 "cells": [
  {
   "cell_type": "code",
   "execution_count": 2,
   "metadata": {},
   "outputs": [],
   "source": [
    "import os\n",
    "from zipfile import ZipFile\n",
    "from pathlib import Path"
   ]
  },
  {
   "cell_type": "code",
   "execution_count": 3,
   "metadata": {},
   "outputs": [],
   "source": [
    "path = Path()"
   ]
  },
  {
   "cell_type": "code",
   "execution_count": 12,
   "metadata": {},
   "outputs": [
    {
     "name": "stdout",
     "output_type": "stream",
     "text": [
      "S7_evtl_defekt.zip\n",
      "S9.zip\n",
      "S8.zip\n",
      "S2.zip\n",
      "S1.zip\n",
      "S5.zip\n",
      "S6.zip\n"
     ]
    }
   ],
   "source": [
    "for fname in path.iterdir():\n",
    "    fname = str(fname)\n",
    "    if not fname[-4:] == \".zip\":\n",
    "        continue\n",
    "    print(fname)\n",
    "    \n",
    "    zp = ZipFile(fname)\n",
    "    edf_name = zp.namelist()[0]\n",
    "    zp.extract(edf_name)\n",
    "    os.rename(edf_name, fname.replace(\"zip\", \"edf\"))\n",
    "    os.rename(fname, Path(\"zip\") / fname)"
   ]
  },
  {
   "cell_type": "code",
   "execution_count": null,
   "metadata": {},
   "outputs": [],
   "source": []
  }
 ],
 "metadata": {
  "kernelspec": {
   "display_name": "Python 3 (ipykernel)",
   "language": "python",
   "name": "python3"
  },
  "language_info": {
   "codemirror_mode": {
    "name": "ipython",
    "version": 3
   },
   "file_extension": ".py",
   "mimetype": "text/x-python",
   "name": "python",
   "nbconvert_exporter": "python",
   "pygments_lexer": "ipython3",
   "version": "3.8.15"
  }
 },
 "nbformat": 4,
 "nbformat_minor": 2
}
